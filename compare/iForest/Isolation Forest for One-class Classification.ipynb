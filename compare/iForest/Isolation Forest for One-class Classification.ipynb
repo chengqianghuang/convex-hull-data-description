{
 "cells": [
  {
   "cell_type": "markdown",
   "metadata": {},
   "source": [
    "# This file is to examine the performance of iForest in prdatasets (One-class Classification)\n",
    "\n",
    "Please read http://scikit-learn.org/stable/modules/generated/sklearn.ensemble.IsolationForest.html for further details."
   ]
  },
  {
   "cell_type": "code",
   "execution_count": 1,
   "metadata": {
    "collapsed": true
   },
   "outputs": [],
   "source": [
    "import pandas as pd\n",
    "import numpy as np\n",
    "import matplotlib.pyplot as plt\n",
    "import random\n",
    "import os\n",
    "\n",
    "import sklearn.preprocessing\n",
    "\n",
    "from sklearn.ensemble import IsolationForest\n",
    "from sklearn.metrics import roc_auc_score"
   ]
  },
  {
   "cell_type": "code",
   "execution_count": 2,
   "metadata": {},
   "outputs": [
    {
     "name": "stdout",
     "output_type": "stream",
     "text": [
      "15\n",
      "../../datasets/datasets in csv format/auto_mpg.csv\n",
      "../../datasets/datasets in csv format/biomed.csv\n",
      "../../datasets/datasets in csv format/breast.csv\n",
      "../../datasets/datasets in csv format/breastdiag.csv\n",
      "../../datasets/datasets in csv format/car.csv\n",
      "../../datasets/datasets in csv format/chromo.csv\n",
      "../../datasets/datasets in csv format/diabetes.csv\n",
      "../../datasets/datasets in csv format/ecoli.csv\n",
      "../../datasets/datasets in csv format/glass.csv\n",
      "../../datasets/datasets in csv format/imox.csv\n",
      "../../datasets/datasets in csv format/ionosphere.csv\n",
      "../../datasets/datasets in csv format/iris.csv\n",
      "../../datasets/datasets in csv format/liver.csv\n",
      "../../datasets/datasets in csv format/sonar.csv\n",
      "../../datasets/datasets in csv format/wine.csv\n"
     ]
    }
   ],
   "source": [
    "# get all the absolute path of the csv files\n",
    "repo_dir = '../../datasets/datasets in csv format/classification/'\n",
    "repo_dir_ext = []\n",
    "\n",
    "for subdir, dirs, files in os.walk(repo_dir):\n",
    "    for file in files:\n",
    "        if file.find('.csv') != -1:\n",
    "            repo_dir_ext.append(os.path.join(subdir, file))\n",
    "\n",
    "            \n",
    "# read all the data from csv to a tensor of type [data(2d matrix), flag(1d vector)]\n",
    "repo_datasets = []\n",
    "\n",
    "for i in range(len(repo_dir_ext)):\n",
    "    dataset = pd.read_csv(repo_dir_ext[i], header=None)\n",
    "    dataset = np.array(dataset)\n",
    "    shape = dataset.shape\n",
    "    \n",
    "    dataset_data = dataset[:,0:shape[1]-1]\n",
    "    dataset_flag = dataset[:,shape[1]-1]\n",
    "    \n",
    "    scaler = sklearn.preprocessing.MinMaxScaler()\n",
    "    scaler.fit(dataset_data.astype(np.float32))\n",
    "    dataset_data = scaler.transform(dataset_data.astype(np.float32))\n",
    "    \n",
    "    dataset = [dataset_data, dataset_flag.astype(np.int32)]\n",
    "    \n",
    "    repo_datasets.append(dataset)\n",
    "    \n",
    "# print some basic info\n",
    "print len(repo_datasets)\n",
    "for i in range(len(repo_dir_ext)):\n",
    "    print repo_dir_ext[i]"
   ]
  },
  {
   "cell_type": "code",
   "execution_count": 3,
   "metadata": {
    "collapsed": true
   },
   "outputs": [],
   "source": [
    "\"\"\"\n",
    "For each dataset, test the performance of iForest\n",
    "\"\"\"\n",
    "# to store the results\n",
    "res = []\n",
    "\n",
    "# ratio of training data, the rest are testing data\n",
    "# the training data are used for cross-validation so as to find the best parameter\n",
    "ratio = 0.9\n",
    "\n",
    "# for different datasets\n",
    "for i in range(len(repo_datasets)):\n",
    "    data = repo_datasets[i][0]\n",
    "    flag = repo_datasets[i][1]\n",
    "\n",
    "    sub_res = []\n",
    "    \n",
    "    # test a dataset multiple times\n",
    "    for j in range(10):\n",
    "        target = data[flag==1,:]\n",
    "        outlier = data[flag==2,:]\n",
    "        \n",
    "        np.random.shuffle(target)\n",
    "        np.random.shuffle(outlier)\n",
    "        \n",
    "        len_target_cv = np.int32(len(target)*ratio)\n",
    "        len_outlier_cv = np.int32(len(outlier)*ratio)\n",
    "        \n",
    "        # a for cross-validation training;\n",
    "        # b for testing\n",
    "        a = target[0:len_target_cv]\n",
    "        b = np.concatenate((target[len_target_cv:len(target)], outlier))\n",
    "        \n",
    "        a_flag = np.ones(len_target_cv)\n",
    "        b_flag = np.concatenate((np.ones(len(target)-len_target_cv), -1*np.ones(len(outlier))))\n",
    "        \n",
    "        assert(len(a) == len(a_flag))\n",
    "        assert(len(b) == len(b_flag))\n",
    "        \n",
    "        # Ideally, get the trained model after cross-validation (grid_search)\n",
    "        # We use the default settings in IsolationForest, so negate the needs of grid_search\n",
    "        model = IsolationForest(contamination=0)\n",
    "        \n",
    "        # get the performance of iForest in testing dataset\n",
    "        model.fit(a)\n",
    "        b_pred = model.decision_function(b)\n",
    "                \n",
    "        sub_res.append(roc_auc_score(b_flag, b_pred))\n",
    "        \n",
    "    res.append(sub_res)"
   ]
  },
  {
   "cell_type": "code",
   "execution_count": 4,
   "metadata": {},
   "outputs": [
    {
     "name": "stdout",
     "output_type": "stream",
     "text": [
      "1. ../../datasets/datasets in csv format/auto_mpg.csv\n",
      "0.921147414458\n",
      "2. ../../datasets/datasets in csv format/biomed.csv\n",
      "0.592913385827\n",
      "3. ../../datasets/datasets in csv format/breast.csv\n",
      "0.993108425041\n",
      "4. ../../datasets/datasets in csv format/breastdiag.csv\n",
      "0.962722746331\n",
      "5. ../../datasets/datasets in csv format/car.csv\n",
      "0.580529800061\n",
      "6. ../../datasets/datasets in csv format/chromo.csv\n",
      "0.954859218892\n",
      "7. ../../datasets/datasets in csv format/diabetes.csv\n",
      "0.557725925926\n",
      "8. ../../datasets/datasets in csv format/ecoli.csv\n",
      "0.983316062176\n",
      "9. ../../datasets/datasets in csv format/glass.csv\n",
      "0.820238095238\n",
      "10. ../../datasets/datasets in csv format/imox.csv\n",
      "0.923333333333\n",
      "11. ../../datasets/datasets in csv format/ionosphere.csv\n",
      "0.915562456867\n",
      "12. ../../datasets/datasets in csv format/iris.csv\n",
      "1.0\n",
      "13. ../../datasets/datasets in csv format/liver.csv\n",
      "0.606866666667\n",
      "14. ../../datasets/datasets in csv format/sonar.csv\n",
      "0.64793814433\n",
      "15. ../../datasets/datasets in csv format/wine.csv\n",
      "0.984733893557\n"
     ]
    }
   ],
   "source": [
    "# analyze the results\n",
    "for i in range(len(res)):\n",
    "    print(\"{0}. {1}\".format(i+1, repo_dir_ext[i]))\n",
    "    print np.average(res[i])"
   ]
  }
 ],
 "metadata": {
  "kernelspec": {
   "display_name": "Python 2",
   "language": "python",
   "name": "python2"
  },
  "language_info": {
   "codemirror_mode": {
    "name": "ipython",
    "version": 2
   },
   "file_extension": ".py",
   "mimetype": "text/x-python",
   "name": "python",
   "nbconvert_exporter": "python",
   "pygments_lexer": "ipython2",
   "version": "2.7.13"
  }
 },
 "nbformat": 4,
 "nbformat_minor": 2
}
