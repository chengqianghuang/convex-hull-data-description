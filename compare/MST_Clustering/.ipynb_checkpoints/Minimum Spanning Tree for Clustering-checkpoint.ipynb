{
 "cells": [
  {
   "cell_type": "markdown",
   "metadata": {},
   "source": [
    "# This file is to examine the performance of MST_Clustering (Clustering)\n",
    "\n",
    "Please read https://github.com/jakevdp/mst_clustering for further details."
   ]
  },
  {
   "cell_type": "code",
   "execution_count": 1,
   "metadata": {
    "collapsed": true
   },
   "outputs": [],
   "source": [
    "import pandas as pd\n",
    "import numpy as np\n",
    "import matplotlib.pyplot as plt\n",
    "import random\n",
    "import os\n",
    "\n",
    "import sklearn.preprocessing\n",
    "\n",
    "from mst_clustering import MSTClustering\n",
    "from sklearn.metrics.cluster import adjusted_mutual_info_score"
   ]
  },
  {
   "cell_type": "code",
   "execution_count": 2,
   "metadata": {},
   "outputs": [
    {
     "name": "stdout",
     "output_type": "stream",
     "text": [
      "7\n",
      "../../datasets/datasets in csv format/clustering/drivFaceD.csv\n",
      "../../datasets/datasets in csv format/clustering/image.csv\n",
      "../../datasets/datasets in csv format/clustering/libras.csv\n",
      "../../datasets/datasets in csv format/clustering/maps.csv\n",
      "../../datasets/datasets in csv format/clustering/motor.csv\n",
      "../../datasets/datasets in csv format/clustering/pen.csv\n",
      "../../datasets/datasets in csv format/clustering/prest.csv\n"
     ]
    }
   ],
   "source": [
    "# get all the absolute path of the csv files\n",
    "repo_dir = '../../datasets/datasets in csv format/clustering/'\n",
    "repo_dir_ext = []\n",
    "\n",
    "for subdir, dirs, files in os.walk(repo_dir):\n",
    "    for file in files:\n",
    "        if file.find('.csv') != -1:\n",
    "            repo_dir_ext.append(os.path.join(subdir, file))\n",
    "\n",
    "            \n",
    "# read all the data from csv to a tensor of type [data(2d matrix), flag(1d vector)]\n",
    "repo_datasets = []\n",
    "\n",
    "for i in range(len(repo_dir_ext)):\n",
    "    dataset = pd.read_csv(repo_dir_ext[i], header=None)\n",
    "    dataset = np.array(dataset)\n",
    "    shape = dataset.shape\n",
    "    \n",
    "    dataset_data = dataset[:,0:shape[1]-1]\n",
    "    dataset_flag = dataset[:,shape[1]-1]\n",
    "    \n",
    "    scaler = sklearn.preprocessing.MinMaxScaler()\n",
    "    scaler.fit(dataset_data.astype(np.float32))\n",
    "    dataset_data = scaler.transform(dataset_data.astype(np.float32))\n",
    "    \n",
    "    dataset = [dataset_data, dataset_flag.astype(np.int32)]\n",
    "    \n",
    "    repo_datasets.append(dataset)\n",
    "    \n",
    "# print some basic info\n",
    "print len(repo_datasets)\n",
    "for i in range(len(repo_dir_ext)):\n",
    "    print repo_dir_ext[i]"
   ]
  },
  {
   "cell_type": "code",
   "execution_count": 3,
   "metadata": {},
   "outputs": [],
   "source": [
    "\"\"\"\n",
    "For each dataset, test the performance of mst_clustering\n",
    "\"\"\"\n",
    "# to store the AMI results\n",
    "res = []\n",
    "\n",
    "# for different datasets\n",
    "for i in range(len(repo_datasets)):\n",
    "    data = repo_datasets[i][0]\n",
    "    flag = repo_datasets[i][1]\n",
    "    \n",
    "    neighbor = [2, 3, 5, 7, 10, 15, 20, 25, 50, 75]\n",
    "    cutoff = [0.05, 0.1, 0.15, 0.2, 0.25, 0.3, 0.35, 0.4, 0.45,\n",
    "               0.5, 0.6, 0.7, 0.8, 0.9, 1]\n",
    "    \n",
    "    sub_res = []\n",
    "    \n",
    "    # for different parameter\n",
    "    for j in range(len(neighbor)):\n",
    "        for k in range(len(cutoff)):\n",
    "            model = MSTClustering(cutoff=cutoff[k], n_neighbors=neighbor[j])\n",
    "            labels = model.fit_predict(data)\n",
    "        \n",
    "            sub_res.append(adjusted_mutual_info_score(flag,labels))\n",
    "        \n",
    "    res.append(np.max(sub_res))"
   ]
  },
  {
   "cell_type": "code",
   "execution_count": 4,
   "metadata": {},
   "outputs": [
    {
     "name": "stdout",
     "output_type": "stream",
     "text": [
      "1. ../../datasets/datasets in csv format/clustering/drivFaceD.csv\n",
      "0.108474284909\n",
      "2. ../../datasets/datasets in csv format/clustering/image.csv\n",
      "0.524717581555\n",
      "3. ../../datasets/datasets in csv format/clustering/libras.csv\n",
      "0.562132662396\n",
      "4. ../../datasets/datasets in csv format/clustering/maps.csv\n",
      "0.810196882658\n",
      "5. ../../datasets/datasets in csv format/clustering/motor.csv\n",
      "1.0\n",
      "6. ../../datasets/datasets in csv format/clustering/pen.csv\n",
      "0.644884154999\n",
      "7. ../../datasets/datasets in csv format/clustering/prest.csv\n",
      "0.512079410476\n"
     ]
    }
   ],
   "source": [
    "# analyze the results\n",
    "for i in range(len(res)):\n",
    "    print(\"{0}. {1}\".format(i+1, repo_dir_ext[i]))\n",
    "    print res[i]"
   ]
  }
 ],
 "metadata": {
  "kernelspec": {
   "display_name": "Python 2",
   "language": "python",
   "name": "python2"
  },
  "language_info": {
   "codemirror_mode": {
    "name": "ipython",
    "version": 2
   },
   "file_extension": ".py",
   "mimetype": "text/x-python",
   "name": "python",
   "nbconvert_exporter": "python",
   "pygments_lexer": "ipython2",
   "version": "2.7.13"
  }
 },
 "nbformat": 4,
 "nbformat_minor": 2
}
